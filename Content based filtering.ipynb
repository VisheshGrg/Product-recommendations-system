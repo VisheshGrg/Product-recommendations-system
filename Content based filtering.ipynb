{
 "cells": [
  {
   "cell_type": "code",
   "execution_count": 182,
   "id": "a2f3f8f7",
   "metadata": {},
   "outputs": [],
   "source": [
    "import numpy as np\n",
    "import pandas as pd"
   ]
  },
  {
   "cell_type": "code",
   "execution_count": 183,
   "id": "ed6551b2",
   "metadata": {},
   "outputs": [],
   "source": [
    "interactions = pd.read_csv('RAW_interactions.csv')\n",
    "recipes = pd.read_csv('RAW_recipes.csv')"
   ]
  },
  {
   "cell_type": "code",
   "execution_count": 184,
   "id": "88ed2e43",
   "metadata": {},
   "outputs": [
    {
     "data": {
      "text/html": [
       "<div>\n",
       "<style scoped>\n",
       "    .dataframe tbody tr th:only-of-type {\n",
       "        vertical-align: middle;\n",
       "    }\n",
       "\n",
       "    .dataframe tbody tr th {\n",
       "        vertical-align: top;\n",
       "    }\n",
       "\n",
       "    .dataframe thead th {\n",
       "        text-align: right;\n",
       "    }\n",
       "</style>\n",
       "<table border=\"1\" class=\"dataframe\">\n",
       "  <thead>\n",
       "    <tr style=\"text-align: right;\">\n",
       "      <th></th>\n",
       "      <th>user_id</th>\n",
       "      <th>recipe_id</th>\n",
       "      <th>date</th>\n",
       "      <th>rating</th>\n",
       "      <th>review</th>\n",
       "    </tr>\n",
       "  </thead>\n",
       "  <tbody>\n",
       "    <tr>\n",
       "      <th>0</th>\n",
       "      <td>38094</td>\n",
       "      <td>40893</td>\n",
       "      <td>2003-02-17</td>\n",
       "      <td>4</td>\n",
       "      <td>Great with a salad. Cooked on top of stove for...</td>\n",
       "    </tr>\n",
       "    <tr>\n",
       "      <th>1</th>\n",
       "      <td>1293707</td>\n",
       "      <td>40893</td>\n",
       "      <td>2011-12-21</td>\n",
       "      <td>5</td>\n",
       "      <td>So simple, so delicious! Great for chilly fall...</td>\n",
       "    </tr>\n",
       "    <tr>\n",
       "      <th>2</th>\n",
       "      <td>8937</td>\n",
       "      <td>44394</td>\n",
       "      <td>2002-12-01</td>\n",
       "      <td>4</td>\n",
       "      <td>This worked very well and is EASY.  I used not...</td>\n",
       "    </tr>\n",
       "    <tr>\n",
       "      <th>3</th>\n",
       "      <td>126440</td>\n",
       "      <td>85009</td>\n",
       "      <td>2010-02-27</td>\n",
       "      <td>5</td>\n",
       "      <td>I made the Mexican topping and took it to bunk...</td>\n",
       "    </tr>\n",
       "    <tr>\n",
       "      <th>4</th>\n",
       "      <td>57222</td>\n",
       "      <td>85009</td>\n",
       "      <td>2011-10-01</td>\n",
       "      <td>5</td>\n",
       "      <td>Made the cheddar bacon topping, adding a sprin...</td>\n",
       "    </tr>\n",
       "  </tbody>\n",
       "</table>\n",
       "</div>"
      ],
      "text/plain": [
       "   user_id  recipe_id        date  rating  \\\n",
       "0    38094      40893  2003-02-17       4   \n",
       "1  1293707      40893  2011-12-21       5   \n",
       "2     8937      44394  2002-12-01       4   \n",
       "3   126440      85009  2010-02-27       5   \n",
       "4    57222      85009  2011-10-01       5   \n",
       "\n",
       "                                              review  \n",
       "0  Great with a salad. Cooked on top of stove for...  \n",
       "1  So simple, so delicious! Great for chilly fall...  \n",
       "2  This worked very well and is EASY.  I used not...  \n",
       "3  I made the Mexican topping and took it to bunk...  \n",
       "4  Made the cheddar bacon topping, adding a sprin...  "
      ]
     },
     "execution_count": 184,
     "metadata": {},
     "output_type": "execute_result"
    }
   ],
   "source": [
    "interactions.head()"
   ]
  },
  {
   "cell_type": "code",
   "execution_count": 185,
   "id": "cb587441",
   "metadata": {},
   "outputs": [
    {
     "data": {
      "text/html": [
       "<div>\n",
       "<style scoped>\n",
       "    .dataframe tbody tr th:only-of-type {\n",
       "        vertical-align: middle;\n",
       "    }\n",
       "\n",
       "    .dataframe tbody tr th {\n",
       "        vertical-align: top;\n",
       "    }\n",
       "\n",
       "    .dataframe thead th {\n",
       "        text-align: right;\n",
       "    }\n",
       "</style>\n",
       "<table border=\"1\" class=\"dataframe\">\n",
       "  <thead>\n",
       "    <tr style=\"text-align: right;\">\n",
       "      <th></th>\n",
       "      <th>name</th>\n",
       "      <th>id</th>\n",
       "      <th>minutes</th>\n",
       "      <th>contributor_id</th>\n",
       "      <th>submitted</th>\n",
       "      <th>tags</th>\n",
       "      <th>nutrition</th>\n",
       "      <th>n_steps</th>\n",
       "      <th>steps</th>\n",
       "      <th>description</th>\n",
       "      <th>ingredients</th>\n",
       "      <th>n_ingredients</th>\n",
       "    </tr>\n",
       "  </thead>\n",
       "  <tbody>\n",
       "    <tr>\n",
       "      <th>0</th>\n",
       "      <td>arriba   baked winter squash mexican style</td>\n",
       "      <td>137739</td>\n",
       "      <td>55</td>\n",
       "      <td>47892</td>\n",
       "      <td>2005-09-16</td>\n",
       "      <td>['60-minutes-or-less', 'time-to-make', 'course...</td>\n",
       "      <td>[51.5, 0.0, 13.0, 0.0, 2.0, 0.0, 4.0]</td>\n",
       "      <td>11</td>\n",
       "      <td>['make a choice and proceed with recipe', 'dep...</td>\n",
       "      <td>autumn is my favorite time of year to cook! th...</td>\n",
       "      <td>['winter squash', 'mexican seasoning', 'mixed ...</td>\n",
       "      <td>7</td>\n",
       "    </tr>\n",
       "    <tr>\n",
       "      <th>1</th>\n",
       "      <td>a bit different  breakfast pizza</td>\n",
       "      <td>31490</td>\n",
       "      <td>30</td>\n",
       "      <td>26278</td>\n",
       "      <td>2002-06-17</td>\n",
       "      <td>['30-minutes-or-less', 'time-to-make', 'course...</td>\n",
       "      <td>[173.4, 18.0, 0.0, 17.0, 22.0, 35.0, 1.0]</td>\n",
       "      <td>9</td>\n",
       "      <td>['preheat oven to 425 degrees f', 'press dough...</td>\n",
       "      <td>this recipe calls for the crust to be prebaked...</td>\n",
       "      <td>['prepared pizza crust', 'sausage patty', 'egg...</td>\n",
       "      <td>6</td>\n",
       "    </tr>\n",
       "    <tr>\n",
       "      <th>2</th>\n",
       "      <td>all in the kitchen  chili</td>\n",
       "      <td>112140</td>\n",
       "      <td>130</td>\n",
       "      <td>196586</td>\n",
       "      <td>2005-02-25</td>\n",
       "      <td>['time-to-make', 'course', 'preparation', 'mai...</td>\n",
       "      <td>[269.8, 22.0, 32.0, 48.0, 39.0, 27.0, 5.0]</td>\n",
       "      <td>6</td>\n",
       "      <td>['brown ground beef in large pot', 'add choppe...</td>\n",
       "      <td>this modified version of 'mom's' chili was a h...</td>\n",
       "      <td>['ground beef', 'yellow onions', 'diced tomato...</td>\n",
       "      <td>13</td>\n",
       "    </tr>\n",
       "    <tr>\n",
       "      <th>3</th>\n",
       "      <td>alouette  potatoes</td>\n",
       "      <td>59389</td>\n",
       "      <td>45</td>\n",
       "      <td>68585</td>\n",
       "      <td>2003-04-14</td>\n",
       "      <td>['60-minutes-or-less', 'time-to-make', 'course...</td>\n",
       "      <td>[368.1, 17.0, 10.0, 2.0, 14.0, 8.0, 20.0]</td>\n",
       "      <td>11</td>\n",
       "      <td>['place potatoes in a large pot of lightly sal...</td>\n",
       "      <td>this is a super easy, great tasting, make ahea...</td>\n",
       "      <td>['spreadable cheese with garlic and herbs', 'n...</td>\n",
       "      <td>11</td>\n",
       "    </tr>\n",
       "    <tr>\n",
       "      <th>4</th>\n",
       "      <td>amish  tomato ketchup  for canning</td>\n",
       "      <td>44061</td>\n",
       "      <td>190</td>\n",
       "      <td>41706</td>\n",
       "      <td>2002-10-25</td>\n",
       "      <td>['weeknight', 'time-to-make', 'course', 'main-...</td>\n",
       "      <td>[352.9, 1.0, 337.0, 23.0, 3.0, 0.0, 28.0]</td>\n",
       "      <td>5</td>\n",
       "      <td>['mix all ingredients&amp; boil for 2 1 / 2 hours ...</td>\n",
       "      <td>my dh's amish mother raised him on this recipe...</td>\n",
       "      <td>['tomato juice', 'apple cider vinegar', 'sugar...</td>\n",
       "      <td>8</td>\n",
       "    </tr>\n",
       "  </tbody>\n",
       "</table>\n",
       "</div>"
      ],
      "text/plain": [
       "                                         name      id  minutes  \\\n",
       "0  arriba   baked winter squash mexican style  137739       55   \n",
       "1            a bit different  breakfast pizza   31490       30   \n",
       "2                   all in the kitchen  chili  112140      130   \n",
       "3                          alouette  potatoes   59389       45   \n",
       "4          amish  tomato ketchup  for canning   44061      190   \n",
       "\n",
       "   contributor_id   submitted  \\\n",
       "0           47892  2005-09-16   \n",
       "1           26278  2002-06-17   \n",
       "2          196586  2005-02-25   \n",
       "3           68585  2003-04-14   \n",
       "4           41706  2002-10-25   \n",
       "\n",
       "                                                tags  \\\n",
       "0  ['60-minutes-or-less', 'time-to-make', 'course...   \n",
       "1  ['30-minutes-or-less', 'time-to-make', 'course...   \n",
       "2  ['time-to-make', 'course', 'preparation', 'mai...   \n",
       "3  ['60-minutes-or-less', 'time-to-make', 'course...   \n",
       "4  ['weeknight', 'time-to-make', 'course', 'main-...   \n",
       "\n",
       "                                    nutrition  n_steps  \\\n",
       "0       [51.5, 0.0, 13.0, 0.0, 2.0, 0.0, 4.0]       11   \n",
       "1   [173.4, 18.0, 0.0, 17.0, 22.0, 35.0, 1.0]        9   \n",
       "2  [269.8, 22.0, 32.0, 48.0, 39.0, 27.0, 5.0]        6   \n",
       "3   [368.1, 17.0, 10.0, 2.0, 14.0, 8.0, 20.0]       11   \n",
       "4   [352.9, 1.0, 337.0, 23.0, 3.0, 0.0, 28.0]        5   \n",
       "\n",
       "                                               steps  \\\n",
       "0  ['make a choice and proceed with recipe', 'dep...   \n",
       "1  ['preheat oven to 425 degrees f', 'press dough...   \n",
       "2  ['brown ground beef in large pot', 'add choppe...   \n",
       "3  ['place potatoes in a large pot of lightly sal...   \n",
       "4  ['mix all ingredients& boil for 2 1 / 2 hours ...   \n",
       "\n",
       "                                         description  \\\n",
       "0  autumn is my favorite time of year to cook! th...   \n",
       "1  this recipe calls for the crust to be prebaked...   \n",
       "2  this modified version of 'mom's' chili was a h...   \n",
       "3  this is a super easy, great tasting, make ahea...   \n",
       "4  my dh's amish mother raised him on this recipe...   \n",
       "\n",
       "                                         ingredients  n_ingredients  \n",
       "0  ['winter squash', 'mexican seasoning', 'mixed ...              7  \n",
       "1  ['prepared pizza crust', 'sausage patty', 'egg...              6  \n",
       "2  ['ground beef', 'yellow onions', 'diced tomato...             13  \n",
       "3  ['spreadable cheese with garlic and herbs', 'n...             11  \n",
       "4  ['tomato juice', 'apple cider vinegar', 'sugar...              8  "
      ]
     },
     "execution_count": 185,
     "metadata": {},
     "output_type": "execute_result"
    }
   ],
   "source": [
    "recipes.head()"
   ]
  },
  {
   "cell_type": "code",
   "execution_count": 186,
   "id": "f3175827",
   "metadata": {},
   "outputs": [],
   "source": [
    "recipes=recipes[['name','id','tags','contributor_id','ingredients']]"
   ]
  },
  {
   "cell_type": "code",
   "execution_count": 187,
   "id": "ba096139",
   "metadata": {},
   "outputs": [
    {
     "data": {
      "text/html": [
       "<div>\n",
       "<style scoped>\n",
       "    .dataframe tbody tr th:only-of-type {\n",
       "        vertical-align: middle;\n",
       "    }\n",
       "\n",
       "    .dataframe tbody tr th {\n",
       "        vertical-align: top;\n",
       "    }\n",
       "\n",
       "    .dataframe thead th {\n",
       "        text-align: right;\n",
       "    }\n",
       "</style>\n",
       "<table border=\"1\" class=\"dataframe\">\n",
       "  <thead>\n",
       "    <tr style=\"text-align: right;\">\n",
       "      <th></th>\n",
       "      <th>name</th>\n",
       "      <th>id</th>\n",
       "      <th>tags</th>\n",
       "      <th>contributor_id</th>\n",
       "      <th>ingredients</th>\n",
       "    </tr>\n",
       "  </thead>\n",
       "  <tbody>\n",
       "    <tr>\n",
       "      <th>0</th>\n",
       "      <td>arriba   baked winter squash mexican style</td>\n",
       "      <td>137739</td>\n",
       "      <td>['60-minutes-or-less', 'time-to-make', 'course...</td>\n",
       "      <td>47892</td>\n",
       "      <td>['winter squash', 'mexican seasoning', 'mixed ...</td>\n",
       "    </tr>\n",
       "    <tr>\n",
       "      <th>1</th>\n",
       "      <td>a bit different  breakfast pizza</td>\n",
       "      <td>31490</td>\n",
       "      <td>['30-minutes-or-less', 'time-to-make', 'course...</td>\n",
       "      <td>26278</td>\n",
       "      <td>['prepared pizza crust', 'sausage patty', 'egg...</td>\n",
       "    </tr>\n",
       "    <tr>\n",
       "      <th>2</th>\n",
       "      <td>all in the kitchen  chili</td>\n",
       "      <td>112140</td>\n",
       "      <td>['time-to-make', 'course', 'preparation', 'mai...</td>\n",
       "      <td>196586</td>\n",
       "      <td>['ground beef', 'yellow onions', 'diced tomato...</td>\n",
       "    </tr>\n",
       "    <tr>\n",
       "      <th>3</th>\n",
       "      <td>alouette  potatoes</td>\n",
       "      <td>59389</td>\n",
       "      <td>['60-minutes-or-less', 'time-to-make', 'course...</td>\n",
       "      <td>68585</td>\n",
       "      <td>['spreadable cheese with garlic and herbs', 'n...</td>\n",
       "    </tr>\n",
       "    <tr>\n",
       "      <th>4</th>\n",
       "      <td>amish  tomato ketchup  for canning</td>\n",
       "      <td>44061</td>\n",
       "      <td>['weeknight', 'time-to-make', 'course', 'main-...</td>\n",
       "      <td>41706</td>\n",
       "      <td>['tomato juice', 'apple cider vinegar', 'sugar...</td>\n",
       "    </tr>\n",
       "  </tbody>\n",
       "</table>\n",
       "</div>"
      ],
      "text/plain": [
       "                                         name      id  \\\n",
       "0  arriba   baked winter squash mexican style  137739   \n",
       "1            a bit different  breakfast pizza   31490   \n",
       "2                   all in the kitchen  chili  112140   \n",
       "3                          alouette  potatoes   59389   \n",
       "4          amish  tomato ketchup  for canning   44061   \n",
       "\n",
       "                                                tags  contributor_id  \\\n",
       "0  ['60-minutes-or-less', 'time-to-make', 'course...           47892   \n",
       "1  ['30-minutes-or-less', 'time-to-make', 'course...           26278   \n",
       "2  ['time-to-make', 'course', 'preparation', 'mai...          196586   \n",
       "3  ['60-minutes-or-less', 'time-to-make', 'course...           68585   \n",
       "4  ['weeknight', 'time-to-make', 'course', 'main-...           41706   \n",
       "\n",
       "                                         ingredients  \n",
       "0  ['winter squash', 'mexican seasoning', 'mixed ...  \n",
       "1  ['prepared pizza crust', 'sausage patty', 'egg...  \n",
       "2  ['ground beef', 'yellow onions', 'diced tomato...  \n",
       "3  ['spreadable cheese with garlic and herbs', 'n...  \n",
       "4  ['tomato juice', 'apple cider vinegar', 'sugar...  "
      ]
     },
     "execution_count": 187,
     "metadata": {},
     "output_type": "execute_result"
    }
   ],
   "source": [
    "recipes.head()"
   ]
  },
  {
   "cell_type": "code",
   "execution_count": 188,
   "id": "599eae24",
   "metadata": {},
   "outputs": [],
   "source": [
    "interactions=interactions[['user_id','rating','recipe_id']]"
   ]
  },
  {
   "cell_type": "code",
   "execution_count": 189,
   "id": "e3130b99",
   "metadata": {},
   "outputs": [
    {
     "data": {
      "text/html": [
       "<div>\n",
       "<style scoped>\n",
       "    .dataframe tbody tr th:only-of-type {\n",
       "        vertical-align: middle;\n",
       "    }\n",
       "\n",
       "    .dataframe tbody tr th {\n",
       "        vertical-align: top;\n",
       "    }\n",
       "\n",
       "    .dataframe thead th {\n",
       "        text-align: right;\n",
       "    }\n",
       "</style>\n",
       "<table border=\"1\" class=\"dataframe\">\n",
       "  <thead>\n",
       "    <tr style=\"text-align: right;\">\n",
       "      <th></th>\n",
       "      <th>user_id</th>\n",
       "      <th>rating</th>\n",
       "      <th>recipe_id</th>\n",
       "    </tr>\n",
       "  </thead>\n",
       "  <tbody>\n",
       "    <tr>\n",
       "      <th>0</th>\n",
       "      <td>38094</td>\n",
       "      <td>4</td>\n",
       "      <td>40893</td>\n",
       "    </tr>\n",
       "    <tr>\n",
       "      <th>1</th>\n",
       "      <td>1293707</td>\n",
       "      <td>5</td>\n",
       "      <td>40893</td>\n",
       "    </tr>\n",
       "    <tr>\n",
       "      <th>2</th>\n",
       "      <td>8937</td>\n",
       "      <td>4</td>\n",
       "      <td>44394</td>\n",
       "    </tr>\n",
       "    <tr>\n",
       "      <th>3</th>\n",
       "      <td>126440</td>\n",
       "      <td>5</td>\n",
       "      <td>85009</td>\n",
       "    </tr>\n",
       "    <tr>\n",
       "      <th>4</th>\n",
       "      <td>57222</td>\n",
       "      <td>5</td>\n",
       "      <td>85009</td>\n",
       "    </tr>\n",
       "  </tbody>\n",
       "</table>\n",
       "</div>"
      ],
      "text/plain": [
       "   user_id  rating  recipe_id\n",
       "0    38094       4      40893\n",
       "1  1293707       5      40893\n",
       "2     8937       4      44394\n",
       "3   126440       5      85009\n",
       "4    57222       5      85009"
      ]
     },
     "execution_count": 189,
     "metadata": {},
     "output_type": "execute_result"
    }
   ],
   "source": [
    "interactions.head()"
   ]
  },
  {
   "cell_type": "code",
   "execution_count": 190,
   "id": "4a787bfb",
   "metadata": {},
   "outputs": [],
   "source": [
    "recipes.rename(columns={'id':'recipe_id'},inplace=True)"
   ]
  },
  {
   "cell_type": "raw",
   "id": "9e8c59fa",
   "metadata": {},
   "source": []
  },
  {
   "cell_type": "code",
   "execution_count": 191,
   "id": "20fc3fb3",
   "metadata": {},
   "outputs": [
    {
     "data": {
      "text/html": [
       "<div>\n",
       "<style scoped>\n",
       "    .dataframe tbody tr th:only-of-type {\n",
       "        vertical-align: middle;\n",
       "    }\n",
       "\n",
       "    .dataframe tbody tr th {\n",
       "        vertical-align: top;\n",
       "    }\n",
       "\n",
       "    .dataframe thead th {\n",
       "        text-align: right;\n",
       "    }\n",
       "</style>\n",
       "<table border=\"1\" class=\"dataframe\">\n",
       "  <thead>\n",
       "    <tr style=\"text-align: right;\">\n",
       "      <th></th>\n",
       "      <th>name</th>\n",
       "      <th>recipe_id</th>\n",
       "      <th>tags</th>\n",
       "      <th>contributor_id</th>\n",
       "      <th>ingredients</th>\n",
       "    </tr>\n",
       "  </thead>\n",
       "  <tbody>\n",
       "    <tr>\n",
       "      <th>0</th>\n",
       "      <td>arriba   baked winter squash mexican style</td>\n",
       "      <td>137739</td>\n",
       "      <td>['60-minutes-or-less', 'time-to-make', 'course...</td>\n",
       "      <td>47892</td>\n",
       "      <td>['winter squash', 'mexican seasoning', 'mixed ...</td>\n",
       "    </tr>\n",
       "    <tr>\n",
       "      <th>1</th>\n",
       "      <td>a bit different  breakfast pizza</td>\n",
       "      <td>31490</td>\n",
       "      <td>['30-minutes-or-less', 'time-to-make', 'course...</td>\n",
       "      <td>26278</td>\n",
       "      <td>['prepared pizza crust', 'sausage patty', 'egg...</td>\n",
       "    </tr>\n",
       "    <tr>\n",
       "      <th>2</th>\n",
       "      <td>all in the kitchen  chili</td>\n",
       "      <td>112140</td>\n",
       "      <td>['time-to-make', 'course', 'preparation', 'mai...</td>\n",
       "      <td>196586</td>\n",
       "      <td>['ground beef', 'yellow onions', 'diced tomato...</td>\n",
       "    </tr>\n",
       "    <tr>\n",
       "      <th>3</th>\n",
       "      <td>alouette  potatoes</td>\n",
       "      <td>59389</td>\n",
       "      <td>['60-minutes-or-less', 'time-to-make', 'course...</td>\n",
       "      <td>68585</td>\n",
       "      <td>['spreadable cheese with garlic and herbs', 'n...</td>\n",
       "    </tr>\n",
       "    <tr>\n",
       "      <th>4</th>\n",
       "      <td>amish  tomato ketchup  for canning</td>\n",
       "      <td>44061</td>\n",
       "      <td>['weeknight', 'time-to-make', 'course', 'main-...</td>\n",
       "      <td>41706</td>\n",
       "      <td>['tomato juice', 'apple cider vinegar', 'sugar...</td>\n",
       "    </tr>\n",
       "    <tr>\n",
       "      <th>...</th>\n",
       "      <td>...</td>\n",
       "      <td>...</td>\n",
       "      <td>...</td>\n",
       "      <td>...</td>\n",
       "      <td>...</td>\n",
       "    </tr>\n",
       "    <tr>\n",
       "      <th>231632</th>\n",
       "      <td>zydeco soup</td>\n",
       "      <td>486161</td>\n",
       "      <td>['ham', '60-minutes-or-less', 'time-to-make', ...</td>\n",
       "      <td>227978</td>\n",
       "      <td>['celery', 'onion', 'green sweet pepper', 'gar...</td>\n",
       "    </tr>\n",
       "    <tr>\n",
       "      <th>231633</th>\n",
       "      <td>zydeco spice mix</td>\n",
       "      <td>493372</td>\n",
       "      <td>['15-minutes-or-less', 'time-to-make', 'course...</td>\n",
       "      <td>1500678</td>\n",
       "      <td>['paprika', 'salt', 'garlic powder', 'onion po...</td>\n",
       "    </tr>\n",
       "    <tr>\n",
       "      <th>231634</th>\n",
       "      <td>zydeco ya ya deviled eggs</td>\n",
       "      <td>308080</td>\n",
       "      <td>['60-minutes-or-less', 'time-to-make', 'course...</td>\n",
       "      <td>37779</td>\n",
       "      <td>['hard-cooked eggs', 'mayonnaise', 'dijon must...</td>\n",
       "    </tr>\n",
       "    <tr>\n",
       "      <th>231635</th>\n",
       "      <td>cookies by design   cookies on a stick</td>\n",
       "      <td>298512</td>\n",
       "      <td>['30-minutes-or-less', 'time-to-make', 'course...</td>\n",
       "      <td>506822</td>\n",
       "      <td>['butter', 'eagle brand condensed milk', 'ligh...</td>\n",
       "    </tr>\n",
       "    <tr>\n",
       "      <th>231636</th>\n",
       "      <td>cookies by design   sugar shortbread cookies</td>\n",
       "      <td>298509</td>\n",
       "      <td>['30-minutes-or-less', 'time-to-make', 'course...</td>\n",
       "      <td>506822</td>\n",
       "      <td>['granulated sugar', 'shortening', 'eggs', 'fl...</td>\n",
       "    </tr>\n",
       "  </tbody>\n",
       "</table>\n",
       "<p>231637 rows × 5 columns</p>\n",
       "</div>"
      ],
      "text/plain": [
       "                                                name  recipe_id  \\\n",
       "0         arriba   baked winter squash mexican style     137739   \n",
       "1                   a bit different  breakfast pizza      31490   \n",
       "2                          all in the kitchen  chili     112140   \n",
       "3                                 alouette  potatoes      59389   \n",
       "4                 amish  tomato ketchup  for canning      44061   \n",
       "...                                              ...        ...   \n",
       "231632                                   zydeco soup     486161   \n",
       "231633                              zydeco spice mix     493372   \n",
       "231634                     zydeco ya ya deviled eggs     308080   \n",
       "231635        cookies by design   cookies on a stick     298512   \n",
       "231636  cookies by design   sugar shortbread cookies     298509   \n",
       "\n",
       "                                                     tags  contributor_id  \\\n",
       "0       ['60-minutes-or-less', 'time-to-make', 'course...           47892   \n",
       "1       ['30-minutes-or-less', 'time-to-make', 'course...           26278   \n",
       "2       ['time-to-make', 'course', 'preparation', 'mai...          196586   \n",
       "3       ['60-minutes-or-less', 'time-to-make', 'course...           68585   \n",
       "4       ['weeknight', 'time-to-make', 'course', 'main-...           41706   \n",
       "...                                                   ...             ...   \n",
       "231632  ['ham', '60-minutes-or-less', 'time-to-make', ...          227978   \n",
       "231633  ['15-minutes-or-less', 'time-to-make', 'course...         1500678   \n",
       "231634  ['60-minutes-or-less', 'time-to-make', 'course...           37779   \n",
       "231635  ['30-minutes-or-less', 'time-to-make', 'course...          506822   \n",
       "231636  ['30-minutes-or-less', 'time-to-make', 'course...          506822   \n",
       "\n",
       "                                              ingredients  \n",
       "0       ['winter squash', 'mexican seasoning', 'mixed ...  \n",
       "1       ['prepared pizza crust', 'sausage patty', 'egg...  \n",
       "2       ['ground beef', 'yellow onions', 'diced tomato...  \n",
       "3       ['spreadable cheese with garlic and herbs', 'n...  \n",
       "4       ['tomato juice', 'apple cider vinegar', 'sugar...  \n",
       "...                                                   ...  \n",
       "231632  ['celery', 'onion', 'green sweet pepper', 'gar...  \n",
       "231633  ['paprika', 'salt', 'garlic powder', 'onion po...  \n",
       "231634  ['hard-cooked eggs', 'mayonnaise', 'dijon must...  \n",
       "231635  ['butter', 'eagle brand condensed milk', 'ligh...  \n",
       "231636  ['granulated sugar', 'shortening', 'eggs', 'fl...  \n",
       "\n",
       "[231637 rows x 5 columns]"
      ]
     },
     "execution_count": 191,
     "metadata": {},
     "output_type": "execute_result"
    }
   ],
   "source": [
    "recipes"
   ]
  },
  {
   "cell_type": "code",
   "execution_count": 192,
   "id": "2762e45c",
   "metadata": {},
   "outputs": [],
   "source": [
    "merge_df = recipes.merge(interactions,on='recipe_id')"
   ]
  },
  {
   "cell_type": "code",
   "execution_count": 193,
   "id": "ab9922e3",
   "metadata": {},
   "outputs": [
    {
     "data": {
      "text/html": [
       "<div>\n",
       "<style scoped>\n",
       "    .dataframe tbody tr th:only-of-type {\n",
       "        vertical-align: middle;\n",
       "    }\n",
       "\n",
       "    .dataframe tbody tr th {\n",
       "        vertical-align: top;\n",
       "    }\n",
       "\n",
       "    .dataframe thead th {\n",
       "        text-align: right;\n",
       "    }\n",
       "</style>\n",
       "<table border=\"1\" class=\"dataframe\">\n",
       "  <thead>\n",
       "    <tr style=\"text-align: right;\">\n",
       "      <th></th>\n",
       "      <th>name</th>\n",
       "      <th>recipe_id</th>\n",
       "      <th>tags</th>\n",
       "      <th>contributor_id</th>\n",
       "      <th>ingredients</th>\n",
       "      <th>user_id</th>\n",
       "      <th>rating</th>\n",
       "    </tr>\n",
       "  </thead>\n",
       "  <tbody>\n",
       "    <tr>\n",
       "      <th>0</th>\n",
       "      <td>arriba   baked winter squash mexican style</td>\n",
       "      <td>137739</td>\n",
       "      <td>['60-minutes-or-less', 'time-to-make', 'course...</td>\n",
       "      <td>47892</td>\n",
       "      <td>['winter squash', 'mexican seasoning', 'mixed ...</td>\n",
       "      <td>4470</td>\n",
       "      <td>5</td>\n",
       "    </tr>\n",
       "    <tr>\n",
       "      <th>1</th>\n",
       "      <td>arriba   baked winter squash mexican style</td>\n",
       "      <td>137739</td>\n",
       "      <td>['60-minutes-or-less', 'time-to-make', 'course...</td>\n",
       "      <td>47892</td>\n",
       "      <td>['winter squash', 'mexican seasoning', 'mixed ...</td>\n",
       "      <td>593927</td>\n",
       "      <td>5</td>\n",
       "    </tr>\n",
       "    <tr>\n",
       "      <th>2</th>\n",
       "      <td>arriba   baked winter squash mexican style</td>\n",
       "      <td>137739</td>\n",
       "      <td>['60-minutes-or-less', 'time-to-make', 'course...</td>\n",
       "      <td>47892</td>\n",
       "      <td>['winter squash', 'mexican seasoning', 'mixed ...</td>\n",
       "      <td>178427</td>\n",
       "      <td>5</td>\n",
       "    </tr>\n",
       "    <tr>\n",
       "      <th>3</th>\n",
       "      <td>a bit different  breakfast pizza</td>\n",
       "      <td>31490</td>\n",
       "      <td>['30-minutes-or-less', 'time-to-make', 'course...</td>\n",
       "      <td>26278</td>\n",
       "      <td>['prepared pizza crust', 'sausage patty', 'egg...</td>\n",
       "      <td>28603</td>\n",
       "      <td>0</td>\n",
       "    </tr>\n",
       "    <tr>\n",
       "      <th>4</th>\n",
       "      <td>a bit different  breakfast pizza</td>\n",
       "      <td>31490</td>\n",
       "      <td>['30-minutes-or-less', 'time-to-make', 'course...</td>\n",
       "      <td>26278</td>\n",
       "      <td>['prepared pizza crust', 'sausage patty', 'egg...</td>\n",
       "      <td>346277</td>\n",
       "      <td>5</td>\n",
       "    </tr>\n",
       "    <tr>\n",
       "      <th>...</th>\n",
       "      <td>...</td>\n",
       "      <td>...</td>\n",
       "      <td>...</td>\n",
       "      <td>...</td>\n",
       "      <td>...</td>\n",
       "      <td>...</td>\n",
       "      <td>...</td>\n",
       "    </tr>\n",
       "    <tr>\n",
       "      <th>1132362</th>\n",
       "      <td>zydeco ya ya deviled eggs</td>\n",
       "      <td>308080</td>\n",
       "      <td>['60-minutes-or-less', 'time-to-make', 'course...</td>\n",
       "      <td>37779</td>\n",
       "      <td>['hard-cooked eggs', 'mayonnaise', 'dijon must...</td>\n",
       "      <td>844554</td>\n",
       "      <td>5</td>\n",
       "    </tr>\n",
       "    <tr>\n",
       "      <th>1132363</th>\n",
       "      <td>cookies by design   cookies on a stick</td>\n",
       "      <td>298512</td>\n",
       "      <td>['30-minutes-or-less', 'time-to-make', 'course...</td>\n",
       "      <td>506822</td>\n",
       "      <td>['butter', 'eagle brand condensed milk', 'ligh...</td>\n",
       "      <td>804234</td>\n",
       "      <td>1</td>\n",
       "    </tr>\n",
       "    <tr>\n",
       "      <th>1132364</th>\n",
       "      <td>cookies by design   sugar shortbread cookies</td>\n",
       "      <td>298509</td>\n",
       "      <td>['30-minutes-or-less', 'time-to-make', 'course...</td>\n",
       "      <td>506822</td>\n",
       "      <td>['granulated sugar', 'shortening', 'eggs', 'fl...</td>\n",
       "      <td>866651</td>\n",
       "      <td>1</td>\n",
       "    </tr>\n",
       "    <tr>\n",
       "      <th>1132365</th>\n",
       "      <td>cookies by design   sugar shortbread cookies</td>\n",
       "      <td>298509</td>\n",
       "      <td>['30-minutes-or-less', 'time-to-make', 'course...</td>\n",
       "      <td>506822</td>\n",
       "      <td>['granulated sugar', 'shortening', 'eggs', 'fl...</td>\n",
       "      <td>1546277</td>\n",
       "      <td>5</td>\n",
       "    </tr>\n",
       "    <tr>\n",
       "      <th>1132366</th>\n",
       "      <td>cookies by design   sugar shortbread cookies</td>\n",
       "      <td>298509</td>\n",
       "      <td>['30-minutes-or-less', 'time-to-make', 'course...</td>\n",
       "      <td>506822</td>\n",
       "      <td>['granulated sugar', 'shortening', 'eggs', 'fl...</td>\n",
       "      <td>1803287907</td>\n",
       "      <td>0</td>\n",
       "    </tr>\n",
       "  </tbody>\n",
       "</table>\n",
       "<p>1132367 rows × 7 columns</p>\n",
       "</div>"
      ],
      "text/plain": [
       "                                                 name  recipe_id  \\\n",
       "0          arriba   baked winter squash mexican style     137739   \n",
       "1          arriba   baked winter squash mexican style     137739   \n",
       "2          arriba   baked winter squash mexican style     137739   \n",
       "3                    a bit different  breakfast pizza      31490   \n",
       "4                    a bit different  breakfast pizza      31490   \n",
       "...                                               ...        ...   \n",
       "1132362                     zydeco ya ya deviled eggs     308080   \n",
       "1132363        cookies by design   cookies on a stick     298512   \n",
       "1132364  cookies by design   sugar shortbread cookies     298509   \n",
       "1132365  cookies by design   sugar shortbread cookies     298509   \n",
       "1132366  cookies by design   sugar shortbread cookies     298509   \n",
       "\n",
       "                                                      tags  contributor_id  \\\n",
       "0        ['60-minutes-or-less', 'time-to-make', 'course...           47892   \n",
       "1        ['60-minutes-or-less', 'time-to-make', 'course...           47892   \n",
       "2        ['60-minutes-or-less', 'time-to-make', 'course...           47892   \n",
       "3        ['30-minutes-or-less', 'time-to-make', 'course...           26278   \n",
       "4        ['30-minutes-or-less', 'time-to-make', 'course...           26278   \n",
       "...                                                    ...             ...   \n",
       "1132362  ['60-minutes-or-less', 'time-to-make', 'course...           37779   \n",
       "1132363  ['30-minutes-or-less', 'time-to-make', 'course...          506822   \n",
       "1132364  ['30-minutes-or-less', 'time-to-make', 'course...          506822   \n",
       "1132365  ['30-minutes-or-less', 'time-to-make', 'course...          506822   \n",
       "1132366  ['30-minutes-or-less', 'time-to-make', 'course...          506822   \n",
       "\n",
       "                                               ingredients     user_id  rating  \n",
       "0        ['winter squash', 'mexican seasoning', 'mixed ...        4470       5  \n",
       "1        ['winter squash', 'mexican seasoning', 'mixed ...      593927       5  \n",
       "2        ['winter squash', 'mexican seasoning', 'mixed ...      178427       5  \n",
       "3        ['prepared pizza crust', 'sausage patty', 'egg...       28603       0  \n",
       "4        ['prepared pizza crust', 'sausage patty', 'egg...      346277       5  \n",
       "...                                                    ...         ...     ...  \n",
       "1132362  ['hard-cooked eggs', 'mayonnaise', 'dijon must...      844554       5  \n",
       "1132363  ['butter', 'eagle brand condensed milk', 'ligh...      804234       1  \n",
       "1132364  ['granulated sugar', 'shortening', 'eggs', 'fl...      866651       1  \n",
       "1132365  ['granulated sugar', 'shortening', 'eggs', 'fl...     1546277       5  \n",
       "1132366  ['granulated sugar', 'shortening', 'eggs', 'fl...  1803287907       0  \n",
       "\n",
       "[1132367 rows x 7 columns]"
      ]
     },
     "execution_count": 193,
     "metadata": {},
     "output_type": "execute_result"
    }
   ],
   "source": [
    "merge_df"
   ]
  },
  {
   "cell_type": "code",
   "execution_count": 194,
   "id": "bae0e202",
   "metadata": {},
   "outputs": [
    {
     "data": {
      "text/plain": [
       "name              1\n",
       "recipe_id         0\n",
       "tags              0\n",
       "contributor_id    0\n",
       "ingredients       0\n",
       "user_id           0\n",
       "rating            0\n",
       "dtype: int64"
      ]
     },
     "execution_count": 194,
     "metadata": {},
     "output_type": "execute_result"
    }
   ],
   "source": [
    "merge_df.isnull().sum()"
   ]
  },
  {
   "cell_type": "code",
   "execution_count": 195,
   "id": "4e0872d5",
   "metadata": {},
   "outputs": [],
   "source": [
    "merge_df.dropna(inplace=True)"
   ]
  },
  {
   "cell_type": "code",
   "execution_count": 196,
   "id": "113b32f2",
   "metadata": {},
   "outputs": [
    {
     "data": {
      "text/plain": [
       "0"
      ]
     },
     "execution_count": 196,
     "metadata": {},
     "output_type": "execute_result"
    }
   ],
   "source": [
    "merge_df.duplicated().sum()"
   ]
  },
  {
   "cell_type": "code",
   "execution_count": 197,
   "id": "3e9b6aeb",
   "metadata": {},
   "outputs": [],
   "source": [
    "import ast"
   ]
  },
  {
   "cell_type": "code",
   "execution_count": 198,
   "id": "7a37c13e",
   "metadata": {},
   "outputs": [],
   "source": [
    "def convert(text):\n",
    "    L = []\n",
    "    for i in ast.literal_eval(text):\n",
    "        L.append(i) \n",
    "    return L "
   ]
  },
  {
   "cell_type": "code",
   "execution_count": 199,
   "id": "e6ffa526",
   "metadata": {},
   "outputs": [],
   "source": [
    "temp_df=merge_df"
   ]
  },
  {
   "cell_type": "code",
   "execution_count": 200,
   "id": "a9bed8ce",
   "metadata": {},
   "outputs": [],
   "source": [
    "temp_df['ingredients'] = temp_df['ingredients'].apply(convert)"
   ]
  },
  {
   "cell_type": "code",
   "execution_count": 201,
   "id": "3aff2ab7",
   "metadata": {},
   "outputs": [],
   "source": [
    "temp_df['tags'] = temp_df['tags'].apply(convert)"
   ]
  },
  {
   "cell_type": "code",
   "execution_count": 202,
   "id": "bb6bedce",
   "metadata": {},
   "outputs": [],
   "source": [
    "def convert4(L):\n",
    "    L1 = []\n",
    "    for i in L:\n",
    "        L1.append(i.replace(\"-\",\"\"))\n",
    "    return L1\n",
    "\n",
    "def convert5(L):\n",
    "    L1 = []\n",
    "    for i in L:\n",
    "        L1.append(i.replace(\" \",\"\"))\n",
    "    return L1"
   ]
  },
  {
   "cell_type": "code",
   "execution_count": null,
   "id": "43c58a78",
   "metadata": {},
   "outputs": [],
   "source": [
    "temp_df['ingredients'] = temp_df['ingredients'].apply(convert4)\n",
    "temp_df['tags'] = temp_df['tags'].apply(convert4)\n",
    "temp_df['ingredients'] = temp_df['ingredients'].apply(convert5)\n",
    "temp_df['tags'] = temp_df['tags'].apply(convert5)"
   ]
  },
  {
   "cell_type": "code",
   "execution_count": null,
   "id": "456d4e23",
   "metadata": {},
   "outputs": [],
   "source": [
    "temp1_df=temp_df[['name','recipe_id','tags','ingredients','rating']]"
   ]
  },
  {
   "cell_type": "code",
   "execution_count": null,
   "id": "803b1cde",
   "metadata": {},
   "outputs": [],
   "source": [
    "temp1_df"
   ]
  },
  {
   "cell_type": "code",
   "execution_count": null,
   "id": "07106f4a",
   "metadata": {},
   "outputs": [],
   "source": [
    "temp3_df = temp1_df.groupby('recipe_id').count()['rating'].reset_index()"
   ]
  },
  {
   "cell_type": "code",
   "execution_count": null,
   "id": "14f18e70",
   "metadata": {},
   "outputs": [],
   "source": [
    "temp3_df.rename(columns={'rating':'num_rating'},inplace=True)"
   ]
  },
  {
   "cell_type": "code",
   "execution_count": null,
   "id": "7b90c980",
   "metadata": {},
   "outputs": [],
   "source": [
    "temp3_df"
   ]
  },
  {
   "cell_type": "code",
   "execution_count": null,
   "id": "fd912d08",
   "metadata": {},
   "outputs": [],
   "source": [
    "temp4_df=temp3_df.merge(temp1_df,on='recipe_id')"
   ]
  },
  {
   "cell_type": "code",
   "execution_count": null,
   "id": "75fe0c21",
   "metadata": {},
   "outputs": [],
   "source": [
    "temp4_df=temp4_df[['recipe_id','num_rating','name','tags','ingredients']]"
   ]
  },
  {
   "cell_type": "code",
   "execution_count": null,
   "id": "2c4f7cb0",
   "metadata": {},
   "outputs": [],
   "source": [
    "temp4_df"
   ]
  },
  {
   "cell_type": "code",
   "execution_count": null,
   "id": "0d19bd0e",
   "metadata": {},
   "outputs": [],
   "source": [
    "temp4_df=temp4_df.drop_duplicates('recipe_id')"
   ]
  },
  {
   "cell_type": "code",
   "execution_count": null,
   "id": "bfd5f0f2",
   "metadata": {},
   "outputs": [],
   "source": [
    "temp4_df"
   ]
  },
  {
   "cell_type": "code",
   "execution_count": null,
   "id": "8cccf4b5",
   "metadata": {},
   "outputs": [],
   "source": [
    "merge1_df=temp4_df"
   ]
  },
  {
   "cell_type": "code",
   "execution_count": null,
   "id": "9516c5fa",
   "metadata": {},
   "outputs": [],
   "source": []
  },
  {
   "cell_type": "code",
   "execution_count": null,
   "id": "a45c2cab",
   "metadata": {},
   "outputs": [],
   "source": [
    "merge1_df['fin_tags']=merge1_df['tags']+merge1_df['ingredients']"
   ]
  },
  {
   "cell_type": "code",
   "execution_count": null,
   "id": "4284aeca",
   "metadata": {},
   "outputs": [],
   "source": [
    "merge1_df=merge1_df[['name','recipe_id','fin_tags','num_rating']]"
   ]
  },
  {
   "cell_type": "code",
   "execution_count": null,
   "id": "c066a9f6",
   "metadata": {},
   "outputs": [],
   "source": [
    "merge1_df"
   ]
  },
  {
   "cell_type": "code",
   "execution_count": null,
   "id": "9ecb9570",
   "metadata": {},
   "outputs": [],
   "source": [
    "merge1_df['fin_tags'][231636]\n"
   ]
  },
  {
   "cell_type": "code",
   "execution_count": null,
   "id": "a89bda7d",
   "metadata": {},
   "outputs": [],
   "source": [
    "merge1_df['fin_tags'][0]"
   ]
  },
  {
   "cell_type": "code",
   "execution_count": null,
   "id": "b2377eff",
   "metadata": {},
   "outputs": [],
   "source": [
    "merge1_df['fin_tags'] = merge1_df['fin_tags'].apply(lambda x: \" \".join(x))"
   ]
  },
  {
   "cell_type": "code",
   "execution_count": null,
   "id": "c2cc06d8",
   "metadata": {},
   "outputs": [],
   "source": [
    "merge1_df"
   ]
  },
  {
   "cell_type": "code",
   "execution_count": null,
   "id": "b3530fe4",
   "metadata": {},
   "outputs": [],
   "source": [
    "merge2_df=merge1_df"
   ]
  },
  {
   "cell_type": "code",
   "execution_count": null,
   "id": "90e34525",
   "metadata": {},
   "outputs": [],
   "source": [
    "merge2_df"
   ]
  },
  {
   "cell_type": "code",
   "execution_count": null,
   "id": "ea20cc04",
   "metadata": {},
   "outputs": [],
   "source": [
    "merge3_df = merge2_df[merge2_df['num_rating']>=10].sort_values('recipe_id',ascending=False).reset_index()"
   ]
  },
  {
   "cell_type": "code",
   "execution_count": null,
   "id": "e6ee5720",
   "metadata": {},
   "outputs": [],
   "source": [
    "merge3_df=merge3_df.drop_duplicates('recipe_id')\n"
   ]
  },
  {
   "cell_type": "code",
   "execution_count": null,
   "id": "41cb8684",
   "metadata": {},
   "outputs": [],
   "source": [
    "merge3_df=merge3_df[['name','recipe_id','fin_tags','num_rating']]"
   ]
  },
  {
   "cell_type": "raw",
   "id": "f38c7bdc",
   "metadata": {},
   "source": []
  },
  {
   "cell_type": "code",
   "execution_count": null,
   "id": "d0e5781e",
   "metadata": {},
   "outputs": [],
   "source": [
    "merge3_df.rename(columns={'name':'recipe_name'},inplace=True)"
   ]
  },
  {
   "cell_type": "code",
   "execution_count": null,
   "id": "7da44551",
   "metadata": {},
   "outputs": [],
   "source": [
    "merge3_df"
   ]
  },
  {
   "cell_type": "code",
   "execution_count": null,
   "id": "46a422e1",
   "metadata": {},
   "outputs": [],
   "source": [
    "from sklearn.feature_extraction.text import CountVectorizer\n",
    "cv = CountVectorizer(max_features=500,stop_words='english')"
   ]
  },
  {
   "cell_type": "code",
   "execution_count": null,
   "id": "db21a47c",
   "metadata": {},
   "outputs": [],
   "source": [
    "vector = cv.fit_transform(merge3_df['fin_tags']).toarray()"
   ]
  },
  {
   "cell_type": "code",
   "execution_count": null,
   "id": "8e985586",
   "metadata": {},
   "outputs": [],
   "source": [
    "vector"
   ]
  },
  {
   "cell_type": "code",
   "execution_count": null,
   "id": "21f127fc",
   "metadata": {},
   "outputs": [],
   "source": [
    "from sklearn.metrics.pairwise import cosine_similarity"
   ]
  },
  {
   "cell_type": "code",
   "execution_count": null,
   "id": "98a993e4",
   "metadata": {},
   "outputs": [],
   "source": [
    "similarity = cosine_similarity(vector)"
   ]
  },
  {
   "cell_type": "code",
   "execution_count": null,
   "id": "e2c547e1",
   "metadata": {},
   "outputs": [],
   "source": [
    "similarity"
   ]
  },
  {
   "cell_type": "code",
   "execution_count": null,
   "id": "43362447",
   "metadata": {},
   "outputs": [],
   "source": [
    "def recommend(dish):\n",
    "    recommended_products=[];\n",
    "    if not merge3_df[merge3_df['recipe_name'] == dish].empty:\n",
    "        index = merge3_df[merge3_df['recipe_name'] == dish].index[0]\n",
    "        distances = sorted(list(enumerate(similarity[index])),reverse=True,key = lambda x: x[1])\n",
    "        for i in distances[1:10001]:\n",
    "            recommended_products.append(merge3_df.iloc[i[0]].recipe_id)\n",
    "        return recommended_products"
   ]
  },
  {
   "cell_type": "code",
   "execution_count": null,
   "id": "12a0385c",
   "metadata": {
    "scrolled": true
   },
   "outputs": [],
   "source": [
    "merge3_df"
   ]
  },
  {
   "cell_type": "code",
   "execution_count": null,
   "id": "ac39145f",
   "metadata": {},
   "outputs": [],
   "source": [
    "pip install fuzzywuzzy"
   ]
  },
  {
   "cell_type": "code",
   "execution_count": null,
   "id": "0eb29887",
   "metadata": {},
   "outputs": [],
   "source": [
    "pip install python-Levenshtein"
   ]
  },
  {
   "cell_type": "code",
   "execution_count": null,
   "id": "56469f31",
   "metadata": {},
   "outputs": [],
   "source": [
    "names_df=merge3_df[['recipe_name']]"
   ]
  },
  {
   "cell_type": "code",
   "execution_count": null,
   "id": "69e0a65b",
   "metadata": {},
   "outputs": [],
   "source": [
    "from fuzzywuzzy import fuzz, process"
   ]
  },
  {
   "cell_type": "code",
   "execution_count": null,
   "id": "0d95b9ea",
   "metadata": {},
   "outputs": [],
   "source": [
    "target_name = 'fries'"
   ]
  },
  {
   "cell_type": "code",
   "execution_count": null,
   "id": "a08f4ac1",
   "metadata": {},
   "outputs": [],
   "source": [
    "similar_names = process.extract(target_name, names_df['recipe_name'], limit=1)"
   ]
  },
  {
   "cell_type": "code",
   "execution_count": null,
   "id": "d032090a",
   "metadata": {},
   "outputs": [],
   "source": [
    "recommended_products=[]\n",
    "for name in similar_names:\n",
    "    if name[1]/name[2]>=1:\n",
    "        recommended_products=recommend(name[0])"
   ]
  },
  {
   "cell_type": "code",
   "execution_count": null,
   "id": "9f0cf4c8",
   "metadata": {},
   "outputs": [],
   "source": [
    "recommended_products"
   ]
  },
  {
   "cell_type": "code",
   "execution_count": null,
   "id": "63f6a872",
   "metadata": {},
   "outputs": [],
   "source": [
    "recommended_df = pd.DataFrame(recommended_products, columns=['recipe_id'])"
   ]
  },
  {
   "cell_type": "code",
   "execution_count": null,
   "id": "50e6ce29",
   "metadata": {},
   "outputs": [],
   "source": [
    "recommended_df"
   ]
  },
  {
   "cell_type": "code",
   "execution_count": null,
   "id": "19ba61b7",
   "metadata": {},
   "outputs": [],
   "source": [
    "merge_df=merge_df[['name','recipe_id','user_id','rating']]\n"
   ]
  },
  {
   "cell_type": "code",
   "execution_count": null,
   "id": "22a06773",
   "metadata": {},
   "outputs": [],
   "source": [
    "merge_df"
   ]
  },
  {
   "cell_type": "code",
   "execution_count": null,
   "id": "68ecfc84",
   "metadata": {},
   "outputs": [],
   "source": [
    "collab_df=merge_df.merge(recommended_df,on='recipe_id')"
   ]
  },
  {
   "cell_type": "code",
   "execution_count": null,
   "id": "83c44958",
   "metadata": {},
   "outputs": [],
   "source": [
    "collab_df"
   ]
  },
  {
   "cell_type": "code",
   "execution_count": null,
   "id": "996cb658",
   "metadata": {},
   "outputs": [],
   "source": [
    "collab_df.isnull().sum()"
   ]
  },
  {
   "cell_type": "code",
   "execution_count": null,
   "id": "2635a5a3",
   "metadata": {},
   "outputs": [],
   "source": [
    "content_based_df=collab_df"
   ]
  },
  {
   "cell_type": "code",
   "execution_count": null,
   "id": "448e2b36",
   "metadata": {},
   "outputs": [],
   "source": [
    "x=collab_df.groupby('user_id').count()['rating'] > 5\n",
    "x"
   ]
  },
  {
   "cell_type": "code",
   "execution_count": null,
   "id": "fded31d8",
   "metadata": {},
   "outputs": [],
   "source": [
    "users_with_more_ratings=x[x].index\n",
    "users_with_more_ratings"
   ]
  },
  {
   "cell_type": "code",
   "execution_count": null,
   "id": "221822d3",
   "metadata": {},
   "outputs": [],
   "source": [
    "filtered_rating = collab_df[collab_df['user_id'].isin(users_with_more_ratings)]\n",
    "filtered_rating"
   ]
  },
  {
   "cell_type": "code",
   "execution_count": null,
   "id": "b131287b",
   "metadata": {},
   "outputs": [],
   "source": [
    "y = filtered_rating.groupby('name').count()['rating']>=10\n",
    "famous_food = y[y].index\n",
    "famous_food"
   ]
  },
  {
   "cell_type": "code",
   "execution_count": null,
   "id": "fc4ed374",
   "metadata": {},
   "outputs": [],
   "source": [
    "final_ratings = filtered_rating[filtered_rating['name'].isin(famous_food)]\n",
    "final_ratings"
   ]
  },
  {
   "cell_type": "code",
   "execution_count": null,
   "id": "5ebe3932",
   "metadata": {},
   "outputs": [],
   "source": [
    "pt = final_ratings.pivot_table(index='name',columns='user_id',values='rating')\n",
    "pt.fillna(0,inplace=True)\n",
    "pt"
   ]
  },
  {
   "cell_type": "code",
   "execution_count": null,
   "id": "47c8680f",
   "metadata": {},
   "outputs": [],
   "source": [
    "from sklearn.metrics.pairwise import cosine_similarity"
   ]
  },
  {
   "cell_type": "code",
   "execution_count": null,
   "id": "e736ee96",
   "metadata": {},
   "outputs": [],
   "source": [
    "similarity_scores = cosine_similarity(pt)"
   ]
  },
  {
   "cell_type": "code",
   "execution_count": null,
   "id": "8a3093f4",
   "metadata": {},
   "outputs": [],
   "source": [
    "similarity_scores.shape"
   ]
  },
  {
   "cell_type": "code",
   "execution_count": null,
   "id": "71dce072",
   "metadata": {},
   "outputs": [],
   "source": [
    "def recommend_collab(dish_name):\n",
    "    index = np.where(pt.index==book_name)[0][0]\n",
    "    similar_items = sorted(list(enumerate(similarity_scores[index])),key=lambda x:x[1],reverse=True)[1:5]\n",
    "    \n",
    "    data = []\n",
    "    for i in similar_items:\n",
    "        item = []\n",
    "        temp_df = books[books['Book-Title'] == pt.index[i[0]]]\n",
    "        item.extend(list(temp_df.drop_duplicates('Book-Title')['Book-Title'].values))\n",
    "        item.extend(list(temp_df.drop_duplicates('Book-Title')['Book-Author'].values))\n",
    "        item.extend(list(temp_df.drop_duplicates('Book-Title')['Image-URL-M'].values))\n",
    "        \n",
    "        data.append(item)\n",
    "    \n",
    "    return data"
   ]
  }
 ],
 "metadata": {
  "kernelspec": {
   "display_name": "Python 3 (ipykernel)",
   "language": "python",
   "name": "python3"
  },
  "language_info": {
   "codemirror_mode": {
    "name": "ipython",
    "version": 3
   },
   "file_extension": ".py",
   "mimetype": "text/x-python",
   "name": "python",
   "nbconvert_exporter": "python",
   "pygments_lexer": "ipython3",
   "version": "3.9.13"
  }
 },
 "nbformat": 4,
 "nbformat_minor": 5
}
