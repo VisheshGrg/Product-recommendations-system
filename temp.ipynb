{
 "cells": [
  {
   "cell_type": "code",
   "execution_count": null,
   "id": "a2f3f8f7",
   "metadata": {},
   "outputs": [],
   "source": [
    "import numpy as np\n",
    "import pandas as pd"
   ]
  },
  {
   "cell_type": "code",
   "execution_count": null,
   "id": "ed6551b2",
   "metadata": {},
   "outputs": [],
   "source": [
    "interactions = pd.read_csv('RAW_interactions.csv')\n",
    "recipes = pd.read_csv('RAW_recipes.csv')"
   ]
  },
  {
   "cell_type": "code",
   "execution_count": null,
   "id": "88ed2e43",
   "metadata": {},
   "outputs": [],
   "source": [
    "interactions.head()"
   ]
  },
  {
   "cell_type": "code",
   "execution_count": null,
   "id": "cb587441",
   "metadata": {},
   "outputs": [],
   "source": [
    "recipes.head()"
   ]
  },
  {
   "cell_type": "code",
   "execution_count": null,
   "id": "f3175827",
   "metadata": {},
   "outputs": [],
   "source": [
    "recipes=recipes[['name','id','tags','contributor_id','ingredients']]"
   ]
  },
  {
   "cell_type": "code",
   "execution_count": null,
   "id": "ba096139",
   "metadata": {},
   "outputs": [],
   "source": [
    "recipes.head()"
   ]
  },
  {
   "cell_type": "code",
   "execution_count": null,
   "id": "599eae24",
   "metadata": {},
   "outputs": [],
   "source": [
    "interactions=interactions[['user_id','rating','recipe_id']]"
   ]
  },
  {
   "cell_type": "code",
   "execution_count": null,
   "id": "e3130b99",
   "metadata": {},
   "outputs": [],
   "source": [
    "interactions.head()"
   ]
  },
  {
   "cell_type": "code",
   "execution_count": null,
   "id": "4a787bfb",
   "metadata": {},
   "outputs": [],
   "source": [
    "recipes.rename(columns={'id':'recipe_id'},inplace=True)"
   ]
  },
  {
   "cell_type": "raw",
   "id": "9e8c59fa",
   "metadata": {},
   "source": []
  },
  {
   "cell_type": "code",
   "execution_count": null,
   "id": "20fc3fb3",
   "metadata": {},
   "outputs": [],
   "source": [
    "recipes"
   ]
  },
  {
   "cell_type": "code",
   "execution_count": null,
   "id": "2762e45c",
   "metadata": {},
   "outputs": [],
   "source": [
    "merge_df = recipes.merge(interactions,on='recipe_id')"
   ]
  },
  {
   "cell_type": "code",
   "execution_count": null,
   "id": "ab9922e3",
   "metadata": {},
   "outputs": [],
   "source": [
    "merge_df"
   ]
  },
  {
   "cell_type": "code",
   "execution_count": null,
   "id": "bae0e202",
   "metadata": {},
   "outputs": [],
   "source": [
    "merge_df.isnull().sum()"
   ]
  },
  {
   "cell_type": "code",
   "execution_count": null,
   "id": "4e0872d5",
   "metadata": {},
   "outputs": [],
   "source": [
    "merge_df.dropna(inplace=True)\n",
    "collab_merge_df=merge_df\n",
    "popularity_merge_df=merge_df"
   ]
  },
  {
   "cell_type": "code",
   "execution_count": null,
   "id": "113b32f2",
   "metadata": {},
   "outputs": [],
   "source": [
    "merge_df.duplicated().sum()"
   ]
  },
  {
   "cell_type": "code",
   "execution_count": null,
   "id": "3e9b6aeb",
   "metadata": {},
   "outputs": [],
   "source": [
    "import ast"
   ]
  },
  {
   "cell_type": "code",
   "execution_count": null,
   "id": "7a37c13e",
   "metadata": {},
   "outputs": [],
   "source": [
    "def convert(text):\n",
    "    L = []\n",
    "    for i in ast.literal_eval(text):\n",
    "        L.append(i) \n",
    "    return L "
   ]
  },
  {
   "cell_type": "code",
   "execution_count": null,
   "id": "e6ffa526",
   "metadata": {},
   "outputs": [],
   "source": [
    "temp_df=merge_df"
   ]
  },
  {
   "cell_type": "code",
   "execution_count": null,
   "id": "a9bed8ce",
   "metadata": {},
   "outputs": [],
   "source": [
    "temp_df['ingredients'] = temp_df['ingredients'].apply(convert)"
   ]
  },
  {
   "cell_type": "code",
   "execution_count": null,
   "id": "3aff2ab7",
   "metadata": {},
   "outputs": [],
   "source": [
    "temp_df['tags'] = temp_df['tags'].apply(convert)"
   ]
  },
  {
   "cell_type": "code",
   "execution_count": null,
   "id": "bb6bedce",
   "metadata": {},
   "outputs": [],
   "source": [
    "def convert4(L):\n",
    "    L1 = []\n",
    "    for i in L:\n",
    "        L1.append(i.replace(\"-\",\"\"))\n",
    "    return L1\n",
    "\n",
    "def convert5(L):\n",
    "    L1 = []\n",
    "    for i in L:\n",
    "        L1.append(i.replace(\" \",\"\"))\n",
    "    return L1"
   ]
  },
  {
   "cell_type": "code",
   "execution_count": null,
   "id": "43c58a78",
   "metadata": {},
   "outputs": [],
   "source": [
    "temp_df['ingredients'] = temp_df['ingredients'].apply(convert4)\n",
    "temp_df['tags'] = temp_df['tags'].apply(convert4)\n",
    "temp_df['ingredients'] = temp_df['ingredients'].apply(convert5)\n",
    "temp_df['tags'] = temp_df['tags'].apply(convert5)"
   ]
  },
  {
   "cell_type": "code",
   "execution_count": null,
   "id": "456d4e23",
   "metadata": {},
   "outputs": [],
   "source": [
    "temp1_df=temp_df[['name','recipe_id','tags','ingredients','rating']]"
   ]
  },
  {
   "cell_type": "code",
   "execution_count": null,
   "id": "803b1cde",
   "metadata": {},
   "outputs": [],
   "source": [
    "temp1_df"
   ]
  },
  {
   "cell_type": "code",
   "execution_count": null,
   "id": "07106f4a",
   "metadata": {},
   "outputs": [],
   "source": [
    "temp3_df = temp1_df.groupby('recipe_id').count()['rating'].reset_index()"
   ]
  },
  {
   "cell_type": "code",
   "execution_count": null,
   "id": "14f18e70",
   "metadata": {},
   "outputs": [],
   "source": [
    "temp3_df.rename(columns={'rating':'num_rating'},inplace=True)"
   ]
  },
  {
   "cell_type": "code",
   "execution_count": null,
   "id": "7b90c980",
   "metadata": {},
   "outputs": [],
   "source": [
    "temp3_df"
   ]
  },
  {
   "cell_type": "code",
   "execution_count": null,
   "id": "fd912d08",
   "metadata": {},
   "outputs": [],
   "source": [
    "temp4_df=temp3_df.merge(temp1_df,on='recipe_id')"
   ]
  },
  {
   "cell_type": "code",
   "execution_count": null,
   "id": "75fe0c21",
   "metadata": {},
   "outputs": [],
   "source": [
    "temp4_df=temp4_df[['recipe_id','num_rating','name','tags','ingredients']]"
   ]
  },
  {
   "cell_type": "code",
   "execution_count": null,
   "id": "2c4f7cb0",
   "metadata": {},
   "outputs": [],
   "source": [
    "temp4_df"
   ]
  },
  {
   "cell_type": "code",
   "execution_count": null,
   "id": "0d19bd0e",
   "metadata": {},
   "outputs": [],
   "source": [
    "temp4_df=temp4_df.drop_duplicates('recipe_id')"
   ]
  },
  {
   "cell_type": "code",
   "execution_count": null,
   "id": "bfd5f0f2",
   "metadata": {},
   "outputs": [],
   "source": [
    "temp4_df"
   ]
  },
  {
   "cell_type": "code",
   "execution_count": null,
   "id": "8cccf4b5",
   "metadata": {},
   "outputs": [],
   "source": [
    "merge1_df=temp4_df"
   ]
  },
  {
   "cell_type": "code",
   "execution_count": null,
   "id": "9516c5fa",
   "metadata": {},
   "outputs": [],
   "source": []
  },
  {
   "cell_type": "code",
   "execution_count": null,
   "id": "a45c2cab",
   "metadata": {},
   "outputs": [],
   "source": [
    "merge1_df['fin_tags']=merge1_df['tags']+merge1_df['ingredients']"
   ]
  },
  {
   "cell_type": "code",
   "execution_count": null,
   "id": "4284aeca",
   "metadata": {},
   "outputs": [],
   "source": [
    "merge1_df=merge1_df[['name','recipe_id','fin_tags','num_rating']]"
   ]
  },
  {
   "cell_type": "code",
   "execution_count": null,
   "id": "c066a9f6",
   "metadata": {},
   "outputs": [],
   "source": [
    "merge1_df"
   ]
  },
  {
   "cell_type": "code",
   "execution_count": null,
   "id": "9ecb9570",
   "metadata": {},
   "outputs": [],
   "source": [
    "merge1_df['fin_tags'][231636]\n"
   ]
  },
  {
   "cell_type": "code",
   "execution_count": null,
   "id": "a89bda7d",
   "metadata": {},
   "outputs": [],
   "source": [
    "merge1_df['fin_tags'][0]"
   ]
  },
  {
   "cell_type": "code",
   "execution_count": null,
   "id": "b2377eff",
   "metadata": {},
   "outputs": [],
   "source": [
    "merge1_df['fin_tags'] = merge1_df['fin_tags'].apply(lambda x: \" \".join(x))"
   ]
  },
  {
   "cell_type": "code",
   "execution_count": null,
   "id": "c2cc06d8",
   "metadata": {},
   "outputs": [],
   "source": [
    "merge1_df"
   ]
  },
  {
   "cell_type": "code",
   "execution_count": null,
   "id": "b3530fe4",
   "metadata": {},
   "outputs": [],
   "source": [
    "merge2_df=merge1_df"
   ]
  },
  {
   "cell_type": "code",
   "execution_count": null,
   "id": "90e34525",
   "metadata": {},
   "outputs": [],
   "source": [
    "merge2_df"
   ]
  },
  {
   "cell_type": "code",
   "execution_count": null,
   "id": "ea20cc04",
   "metadata": {},
   "outputs": [],
   "source": [
    "merge3_df = merge2_df[merge2_df['num_rating']>=10].sort_values('recipe_id',ascending=False).reset_index()"
   ]
  },
  {
   "cell_type": "code",
   "execution_count": null,
   "id": "e6ee5720",
   "metadata": {},
   "outputs": [],
   "source": [
    "merge3_df=merge3_df.drop_duplicates('recipe_id')\n"
   ]
  },
  {
   "cell_type": "code",
   "execution_count": null,
   "id": "41cb8684",
   "metadata": {},
   "outputs": [],
   "source": [
    "merge3_df=merge3_df[['name','recipe_id','fin_tags','num_rating']]"
   ]
  },
  {
   "cell_type": "raw",
   "id": "f38c7bdc",
   "metadata": {},
   "source": []
  },
  {
   "cell_type": "code",
   "execution_count": null,
   "id": "d0e5781e",
   "metadata": {},
   "outputs": [],
   "source": [
    "merge3_df.rename(columns={'name':'recipe_name'},inplace=True)"
   ]
  },
  {
   "cell_type": "code",
   "execution_count": null,
   "id": "7da44551",
   "metadata": {},
   "outputs": [],
   "source": [
    "merge3_df"
   ]
  },
  {
   "cell_type": "code",
   "execution_count": null,
   "id": "46a422e1",
   "metadata": {},
   "outputs": [],
   "source": [
    "from sklearn.feature_extraction.text import CountVectorizer\n",
    "cv = CountVectorizer(max_features=500,stop_words='english')"
   ]
  },
  {
   "cell_type": "code",
   "execution_count": null,
   "id": "db21a47c",
   "metadata": {},
   "outputs": [],
   "source": [
    "vector = cv.fit_transform(merge3_df['fin_tags']).toarray()"
   ]
  },
  {
   "cell_type": "code",
   "execution_count": null,
   "id": "8e985586",
   "metadata": {},
   "outputs": [],
   "source": [
    "vector"
   ]
  },
  {
   "cell_type": "code",
   "execution_count": null,
   "id": "21f127fc",
   "metadata": {},
   "outputs": [],
   "source": [
    "from sklearn.metrics.pairwise import cosine_similarity"
   ]
  },
  {
   "cell_type": "code",
   "execution_count": null,
   "id": "98a993e4",
   "metadata": {},
   "outputs": [],
   "source": [
    "similarity = cosine_similarity(vector)"
   ]
  },
  {
   "cell_type": "code",
   "execution_count": null,
   "id": "e2c547e1",
   "metadata": {},
   "outputs": [],
   "source": [
    "similarity"
   ]
  },
  {
   "cell_type": "code",
   "execution_count": null,
   "id": "43362447",
   "metadata": {},
   "outputs": [],
   "source": [
    "def recommend(dish):\n",
    "    recommended_products=[];\n",
    "    if not merge3_df[merge3_df['recipe_name'] == dish].empty:\n",
    "        index = merge3_df[merge3_df['recipe_name'] == dish].index[0]\n",
    "        distances = sorted(list(enumerate(similarity[index])),reverse=True,key = lambda x: x[1])\n",
    "        for i in distances[1:10001]:\n",
    "            recommended_products.append(merge3_df.iloc[i[0]].recipe_id)\n",
    "        return recommended_products"
   ]
  },
  {
   "cell_type": "code",
   "execution_count": null,
   "id": "12a0385c",
   "metadata": {
    "scrolled": true
   },
   "outputs": [],
   "source": [
    "merge3_df"
   ]
  },
  {
   "cell_type": "code",
   "execution_count": null,
   "id": "af5f0215",
   "metadata": {},
   "outputs": [],
   "source": [
    "pip install fuzzywuzzy"
   ]
  },
  {
   "cell_type": "code",
   "execution_count": null,
   "id": "ff52743c",
   "metadata": {},
   "outputs": [],
   "source": [
    "pip install python-Levenshtein"
   ]
  },
  {
   "cell_type": "code",
   "execution_count": null,
   "id": "304a0437",
   "metadata": {},
   "outputs": [],
   "source": [
    "names_df=merge3_df[['recipe_name']]"
   ]
  },
  {
   "cell_type": "code",
   "execution_count": null,
   "id": "b052ad7d",
   "metadata": {},
   "outputs": [],
   "source": [
    "from fuzzywuzzy import fuzz, process"
   ]
  },
  {
   "cell_type": "code",
   "execution_count": null,
   "id": "84806d6e",
   "metadata": {},
   "outputs": [],
   "source": [
    "target_name = 'pasta'"
   ]
  },
  {
   "cell_type": "code",
   "execution_count": null,
   "id": "e68a9ac5",
   "metadata": {},
   "outputs": [],
   "source": [
    "similar_names = process.extract(target_name, names_df['recipe_name'], limit=3)"
   ]
  },
  {
   "cell_type": "code",
   "execution_count": null,
   "id": "d032090a",
   "metadata": {},
   "outputs": [],
   "source": [
    "recommended_products=[]\n",
    "for name in similar_names:\n",
    "    if name[1]/name[2]>=0.1:\n",
    "        recommended_products=recommended_products+recommend(name[0])"
   ]
  },
  {
   "cell_type": "code",
   "execution_count": null,
   "id": "63f6a872",
   "metadata": {},
   "outputs": [],
   "source": [
    "recommended_df = pd.DataFrame(recommended_products, columns=['recipe_id'])\n",
    "recommended_df"
   ]
  },
  {
   "cell_type": "code",
   "execution_count": null,
   "id": "6d33f558",
   "metadata": {
    "scrolled": true
   },
   "outputs": [],
   "source": [
    "recommended_df=recommended_df.drop_duplicates('recipe_id').reset_index()"
   ]
  },
  {
   "cell_type": "code",
   "execution_count": null,
   "id": "5b51a247",
   "metadata": {},
   "outputs": [],
   "source": [
    "recommended_df"
   ]
  },
  {
   "cell_type": "code",
   "execution_count": null,
   "id": "280e4b52",
   "metadata": {},
   "outputs": [],
   "source": [
    "recommended_df=recommended_df[['recipe_id']]"
   ]
  },
  {
   "cell_type": "code",
   "execution_count": null,
   "id": "50e6ce29",
   "metadata": {},
   "outputs": [],
   "source": [
    "recommended_df"
   ]
  },
  {
   "cell_type": "code",
   "execution_count": null,
   "id": "19ba61b7",
   "metadata": {},
   "outputs": [],
   "source": [
    "merge_df=merge_df[['name','recipe_id','user_id','rating']]\n"
   ]
  },
  {
   "cell_type": "code",
   "execution_count": null,
   "id": "22a06773",
   "metadata": {},
   "outputs": [],
   "source": [
    "merge_df"
   ]
  },
  {
   "cell_type": "code",
   "execution_count": null,
   "id": "68ecfc84",
   "metadata": {},
   "outputs": [],
   "source": [
    "collab_df=recommended_df.merge(merge_df,on='recipe_id')"
   ]
  },
  {
   "cell_type": "code",
   "execution_count": null,
   "id": "83c44958",
   "metadata": {},
   "outputs": [],
   "source": [
    "collab_df"
   ]
  },
  {
   "cell_type": "code",
   "execution_count": null,
   "id": "996cb658",
   "metadata": {},
   "outputs": [],
   "source": [
    "collab_df.isnull().sum()"
   ]
  },
  {
   "cell_type": "code",
   "execution_count": null,
   "id": "59050c23",
   "metadata": {},
   "outputs": [],
   "source": [
    "collab_merge_df=collab_df[['name','recipe_id','user_id','rating']]\n",
    "collab_final_df=collab_merge_df"
   ]
  },
  {
   "cell_type": "code",
   "execution_count": null,
   "id": "a7bde73a",
   "metadata": {},
   "outputs": [],
   "source": [
    "collab_merge_df"
   ]
  },
  {
   "cell_type": "code",
   "execution_count": null,
   "id": "21909e2b",
   "metadata": {},
   "outputs": [],
   "source": [
    "x=collab_merge_df.groupby('user_id').count()['rating'] > 10\n",
    "x"
   ]
  },
  {
   "cell_type": "code",
   "execution_count": null,
   "id": "01e2ff45",
   "metadata": {},
   "outputs": [],
   "source": [
    "users_with_more_ratings=x[x].index\n",
    "users_with_more_ratings"
   ]
  },
  {
   "cell_type": "code",
   "execution_count": null,
   "id": "5ddeda78",
   "metadata": {
    "scrolled": true
   },
   "outputs": [],
   "source": [
    "filtered_rating = collab_merge_df[collab_merge_df['user_id'].isin(users_with_more_ratings)]\n",
    "filtered_rating"
   ]
  },
  {
   "cell_type": "code",
   "execution_count": null,
   "id": "356adc7d",
   "metadata": {},
   "outputs": [],
   "source": [
    "y = filtered_rating.groupby('name').count()['rating']>=20\n",
    "famous_food = y[y].index\n",
    "famous_food"
   ]
  },
  {
   "cell_type": "code",
   "execution_count": null,
   "id": "8eb52a19",
   "metadata": {},
   "outputs": [],
   "source": [
    "final_ratings = filtered_rating[filtered_rating['name'].isin(famous_food)]\n",
    "final_ratings"
   ]
  },
  {
   "cell_type": "code",
   "execution_count": null,
   "id": "54d49413",
   "metadata": {},
   "outputs": [],
   "source": [
    "pt = final_ratings.pivot_table(index='name',columns='user_id',values='rating')\n",
    "pt.fillna(0,inplace=True)\n",
    "pt"
   ]
  },
  {
   "cell_type": "code",
   "execution_count": null,
   "id": "3e6af497",
   "metadata": {},
   "outputs": [],
   "source": [
    "from sklearn.metrics.pairwise import cosine_similarity"
   ]
  },
  {
   "cell_type": "code",
   "execution_count": null,
   "id": "683f9e50",
   "metadata": {},
   "outputs": [],
   "source": [
    "similarity_scores = cosine_similarity(pt)"
   ]
  },
  {
   "cell_type": "code",
   "execution_count": null,
   "id": "c4dd03a9",
   "metadata": {},
   "outputs": [],
   "source": [
    "similarity_scores.shape"
   ]
  },
  {
   "cell_type": "code",
   "execution_count": null,
   "id": "39ace032",
   "metadata": {},
   "outputs": [],
   "source": [
    "def recommend_collab(dish_name):\n",
    "    similar_name = process.extract(dish_name, final_ratings['name'], limit=1)\n",
    "    index = np.where(pt.index==similar_name[0][0])[0][0]\n",
    "    similar_items = sorted(list(enumerate(similarity_scores[index])),key=lambda x:x[1],reverse=True)[1:21]\n",
    "    \n",
    "    data = []\n",
    "    for i in similar_items:\n",
    "        data.append(pt.index[i[0]])\n",
    "    return data"
   ]
  },
  {
   "cell_type": "code",
   "execution_count": null,
   "id": "a20a9343",
   "metadata": {},
   "outputs": [],
   "source": [
    "collab_similar_items=recommend_collab('pasta')"
   ]
  },
  {
   "cell_type": "code",
   "execution_count": null,
   "id": "486ed143",
   "metadata": {},
   "outputs": [],
   "source": [
    "collab_final_df=collab_merge_df[collab_merge_df['name'].isin(collab_similar_items)]\n",
    "collab_final_df"
   ]
  },
  {
   "cell_type": "code",
   "execution_count": null,
   "id": "376d0624",
   "metadata": {},
   "outputs": [],
   "source": [
    "content_final_df=collab_df[['name','recipe_id']]"
   ]
  },
  {
   "cell_type": "code",
   "execution_count": null,
   "id": "86050cd0",
   "metadata": {},
   "outputs": [],
   "source": [
    "content_final_df=content_final_df.drop_duplicates('recipe_id').reset_index()"
   ]
  },
  {
   "cell_type": "code",
   "execution_count": null,
   "id": "1c70a8a9",
   "metadata": {},
   "outputs": [],
   "source": [
    "content_final_df=content_final_df[['name','recipe_id']]"
   ]
  },
  {
   "cell_type": "code",
   "execution_count": null,
   "id": "a1e476d2",
   "metadata": {},
   "outputs": [],
   "source": [
    "content_final_df=content_final_df.head(20)"
   ]
  },
  {
   "cell_type": "code",
   "execution_count": null,
   "id": "d9ddd5d1",
   "metadata": {},
   "outputs": [],
   "source": [
    "content_final_df"
   ]
  },
  {
   "cell_type": "code",
   "execution_count": null,
   "id": "d87371b0",
   "metadata": {},
   "outputs": [],
   "source": [
    "collab_final_df=collab_final_df[['name','recipe_id']]"
   ]
  },
  {
   "cell_type": "code",
   "execution_count": null,
   "id": "5acf0b51",
   "metadata": {},
   "outputs": [],
   "source": [
    "collab_final_df=collab_final_df.drop_duplicates('recipe_id').reset_index()"
   ]
  },
  {
   "cell_type": "code",
   "execution_count": null,
   "id": "096a8054",
   "metadata": {},
   "outputs": [],
   "source": [
    "collab_final_df=collab_final_df[['name','recipe_id']]"
   ]
  },
  {
   "cell_type": "code",
   "execution_count": null,
   "id": "8847f584",
   "metadata": {},
   "outputs": [],
   "source": [
    "collab_final_df=collab_final_df.head(20)"
   ]
  },
  {
   "cell_type": "code",
   "execution_count": null,
   "id": "fe741296",
   "metadata": {
    "scrolled": true
   },
   "outputs": [],
   "source": [
    "collab_final_df"
   ]
  },
  {
   "cell_type": "code",
   "execution_count": null,
   "id": "b8a16aea",
   "metadata": {},
   "outputs": [],
   "source": [
    "num_ratings_df=popularity_merge_df.groupby('recipe_id').count()['rating'].reset_index()"
   ]
  },
  {
   "cell_type": "code",
   "execution_count": null,
   "id": "fdeac218",
   "metadata": {
    "scrolled": true
   },
   "outputs": [],
   "source": [
    "num_ratings_df"
   ]
  },
  {
   "cell_type": "code",
   "execution_count": null,
   "id": "35480b0a",
   "metadata": {},
   "outputs": [],
   "source": [
    "popularity_merge_df=collab_df"
   ]
  },
  {
   "cell_type": "code",
   "execution_count": null,
   "id": "7831fccf",
   "metadata": {},
   "outputs": [],
   "source": [
    "avg_rating_df=collab_df.groupby('recipe_id').mean()['rating'].reset_index()"
   ]
  },
  {
   "cell_type": "code",
   "execution_count": null,
   "id": "f8926f5a",
   "metadata": {},
   "outputs": [],
   "source": [
    "avg_rating_df"
   ]
  },
  {
   "cell_type": "code",
   "execution_count": null,
   "id": "0c01add0",
   "metadata": {},
   "outputs": [],
   "source": [
    "num_ratings_df.rename(columns={'rating':'num_ratings'},inplace=True)"
   ]
  },
  {
   "cell_type": "code",
   "execution_count": null,
   "id": "3d55ef02",
   "metadata": {},
   "outputs": [],
   "source": [
    "num_ratings_df"
   ]
  },
  {
   "cell_type": "code",
   "execution_count": null,
   "id": "2ac9ba27",
   "metadata": {},
   "outputs": [],
   "source": [
    "avg_rating_df.rename(columns={'rating':'avg_rating'},inplace=True)"
   ]
  },
  {
   "cell_type": "code",
   "execution_count": null,
   "id": "ef99450b",
   "metadata": {},
   "outputs": [],
   "source": [
    "avg_rating_df"
   ]
  },
  {
   "cell_type": "code",
   "execution_count": null,
   "id": "c2670bac",
   "metadata": {},
   "outputs": [],
   "source": [
    "popular_df=num_ratings_df.merge(avg_rating_df,on='recipe_id')"
   ]
  },
  {
   "cell_type": "code",
   "execution_count": null,
   "id": "72d619cb",
   "metadata": {},
   "outputs": [],
   "source": [
    "popular_df"
   ]
  },
  {
   "cell_type": "code",
   "execution_count": null,
   "id": "a8ef12d0",
   "metadata": {},
   "outputs": [],
   "source": [
    "popular_df = popular_df[popular_df['num_ratings']>=20].sort_values('avg_rating',ascending=False)"
   ]
  },
  {
   "cell_type": "code",
   "execution_count": null,
   "id": "30e48a28",
   "metadata": {},
   "outputs": [],
   "source": [
    "popular_df"
   ]
  },
  {
   "cell_type": "code",
   "execution_count": null,
   "id": "e638224a",
   "metadata": {},
   "outputs": [],
   "source": [
    "popular_df = popular_df.merge(collab_df,on='recipe_id').drop_duplicates('recipe_id')[['recipe_id','name','num_ratings','avg_rating']].sort_values(by=[\"avg_rating\", \"num_ratings\"], ascending=[False, False])"
   ]
  },
  {
   "cell_type": "code",
   "execution_count": null,
   "id": "bf624a65",
   "metadata": {},
   "outputs": [],
   "source": [
    "popular_df"
   ]
  },
  {
   "cell_type": "code",
   "execution_count": null,
   "id": "fe2daeb0",
   "metadata": {},
   "outputs": [],
   "source": [
    "popularity_final_df=popular_df[['name','recipe_id']]"
   ]
  },
  {
   "cell_type": "code",
   "execution_count": null,
   "id": "3251dfe6",
   "metadata": {},
   "outputs": [],
   "source": [
    "popularity_final_df=popularity_final_df.drop_duplicates('recipe_id').reset_index()"
   ]
  },
  {
   "cell_type": "code",
   "execution_count": null,
   "id": "b0827037",
   "metadata": {},
   "outputs": [],
   "source": [
    "popularity_final_df=popularity_final_df[['name','recipe_id']]"
   ]
  },
  {
   "cell_type": "code",
   "execution_count": null,
   "id": "5dd7e3eb",
   "metadata": {},
   "outputs": [],
   "source": [
    "popularity_final_df=popularity_final_df.head(20)"
   ]
  },
  {
   "cell_type": "code",
   "execution_count": null,
   "id": "27cf6088",
   "metadata": {},
   "outputs": [],
   "source": [
    "popularity_final_df"
   ]
  },
  {
   "cell_type": "code",
   "execution_count": null,
   "id": "1965f8a1",
   "metadata": {},
   "outputs": [],
   "source": [
    "merged_final_df = pd.concat([content_final_df, collab_final_df], ignore_index=True)\n",
    "merged_final_df = pd.concat([merged_final_df,popularity_final_df], ignore_index=True)"
   ]
  },
  {
   "cell_type": "code",
   "execution_count": null,
   "id": "1e6e48c2",
   "metadata": {},
   "outputs": [],
   "source": [
    "merged_final_df.drop_duplicates('recipe_id')"
   ]
  },
  {
   "cell_type": "code",
   "execution_count": null,
   "id": "44d66994",
   "metadata": {},
   "outputs": [],
   "source": [
    "merged_final_df['weight']=0"
   ]
  },
  {
   "cell_type": "code",
   "execution_count": null,
   "id": "468f2835",
   "metadata": {},
   "outputs": [],
   "source": [
    "merged_final_df"
   ]
  },
  {
   "cell_type": "code",
   "execution_count": null,
   "id": "b57b5ab0",
   "metadata": {},
   "outputs": [],
   "source": [
    "content_final_df"
   ]
  },
  {
   "cell_type": "code",
   "execution_count": null,
   "id": "e985cd06",
   "metadata": {},
   "outputs": [],
   "source": [
    "def assign_weights():\n",
    "    for idx,row in merged_final_df.iterrows():\n",
    "        wght=0\n",
    "        idx1 = content_final_df[content_final_df['recipe_id'] == row[1]].index[0] if any(content_final_df['recipe_id'] == row[1]) else 20\n",
    "        idx2= collab_final_df[collab_final_df['recipe_id'] == row[1]].index[0] if any(collab_final_df['recipe_id'] == row[1]) else 20\n",
    "        idx3 = popularity_final_df[popularity_final_df['recipe_id'] == row[1]].index[0] if any(popularity_final_df['recipe_id'] == row[1]) else 20\n",
    "        wght=0.5*(20-idx1)+0.3*(20-idx2)+0.2*(20-idx3)\n",
    "        row_idx=merged_final_df[merged_final_df['recipe_id'] == row[1]].index[0]\n",
    "        merged_final_df.at[row_idx, 'weight'] = wght"
   ]
  },
  {
   "cell_type": "code",
   "execution_count": null,
   "id": "79871fe2",
   "metadata": {},
   "outputs": [],
   "source": [
    "assign_weights()"
   ]
  },
  {
   "cell_type": "code",
   "execution_count": null,
   "id": "66aed90e",
   "metadata": {},
   "outputs": [],
   "source": [
    "merged_final_df"
   ]
  },
  {
   "cell_type": "code",
   "execution_count": null,
   "id": "2d2ad46a",
   "metadata": {},
   "outputs": [],
   "source": [
    "final_system = merged_final_df.sort_values(by='weight', ascending=False).reset_index()\n",
    "final_system=final_system[['name','recipe_id']].head(20)"
   ]
  },
  {
   "cell_type": "code",
   "execution_count": null,
   "id": "45a47b59",
   "metadata": {},
   "outputs": [],
   "source": [
    "final_system"
   ]
  }
 ],
 "metadata": {
  "kernelspec": {
   "display_name": "Python 3 (ipykernel)",
   "language": "python",
   "name": "python3"
  },
  "language_info": {
   "codemirror_mode": {
    "name": "ipython",
    "version": 3
   },
   "file_extension": ".py",
   "mimetype": "text/x-python",
   "name": "python",
   "nbconvert_exporter": "python",
   "pygments_lexer": "ipython3",
   "version": "3.9.13"
  }
 },
 "nbformat": 4,
 "nbformat_minor": 5
}
